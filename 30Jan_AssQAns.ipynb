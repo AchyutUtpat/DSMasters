{
 "cells": [
  {
   "cell_type": "code",
   "execution_count": 5,
   "id": "59ea3bae-602a-45bc-a954-df984d49dccf",
   "metadata": {},
   "outputs": [
    {
     "name": "stdin",
     "output_type": "stream",
     "text": [
      "Enter the percentage :  95\n"
     ]
    },
    {
     "name": "stdout",
     "output_type": "stream",
     "text": [
      " Grade = A\n"
     ]
    }
   ],
   "source": [
    "### program to accept percentage from user and display the grade \n",
    "\n",
    "def calculate_percentage(percent):\n",
    "    if percent > 90:\n",
    "        return \"A\"\n",
    "    elif percent >80 and percent <=90:\n",
    "        return \"B\"\n",
    "    elif percent >=60 and percent <=80:\n",
    "        return \"C\"\n",
    "    else:\n",
    "        return \"D\"\n",
    "    \n",
    "try:\n",
    "    # Accept percentage input from user\n",
    "    percentage=(float(input(\"Enter the percentage : \" )))\n",
    "    \n",
    "    # Validate input is within range\n",
    "    if 0<= percentage <=100:\n",
    "        # Calculate and display the grades\n",
    "        grade = calculate_percentage(percentage)\n",
    "        print(f\" Grade = {grade}\")\n",
    "        \n",
    "    else:\n",
    "        print(\"Percentage should be between 0 to 100\")\n",
    "except ValuError:\n",
    "    print(\"Invalid Input Please enter valid percentage\")\n",
    "    "
   ]
  },
  {
   "cell_type": "code",
   "execution_count": 6,
   "id": "1bdd3e14-6d91-4a84-8f26-aa655aac6c5e",
   "metadata": {},
   "outputs": [
    {
     "name": "stdin",
     "output_type": "stream",
     "text": [
      "Enter the cost price of bike (in Rs.) 12000\n"
     ]
    },
    {
     "name": "stdout",
     "output_type": "stream",
     "text": [
      "Road tax to be paid: Rs. 1800.00\n"
     ]
    }
   ],
   "source": [
    "## program that accepts the cost price of a bike from the user and calculates the road tax \n",
    "\n",
    "def calculate_road_tax(cost_price):\n",
    "    if cost_price > 10000:\n",
    "        return 0.15 * cost_price\n",
    "    elif cost_price > 50000 and cost_price <= 100000:\n",
    "        return 0.10 * cost_price\n",
    "    elif cost_price <= 50000:\n",
    "        return 0.05 * cost_price\n",
    "    else:\n",
    "        return None #Handle invalid input gracefully\n",
    "    \n",
    "try:\n",
    "    # Accept cost_price from user\n",
    "    cost_price=float(input(\"Enter the cost price of bike (in Rs.)\"))\n",
    "    \n",
    "    # Validate the input to sure it is positive\n",
    "    if cost_price > 0:\n",
    "        # Calculate and display road tax\n",
    "        road_tax = calculate_road_tax(cost_price)\n",
    "        if road_tax is not None:\n",
    "            print(f\"Road tax to be paid: Rs. {road_tax:.2f}\")\n",
    "        else:\n",
    "            print(\"Invalid cost price\")\n",
    "    else:\n",
    "        print(\"Cost price should be greater than zero\")\n",
    "except ValueError:\n",
    "    print(\"Invalid input, Please enter the valid cost price\")"
   ]
  },
  {
   "cell_type": "code",
   "execution_count": 9,
   "id": "7fbea221-cc4c-4807-9f57-a72243f8a28a",
   "metadata": {},
   "outputs": [
    {
     "name": "stdin",
     "output_type": "stream",
     "text": [
      "Enter the city name:  jaipur\n"
     ]
    },
    {
     "name": "stdout",
     "output_type": "stream",
     "text": [
      "Monument in Jaipur : Jal Mahal\n"
     ]
    }
   ],
   "source": [
    "## program that accepts a city name from the user and displays the corresponding monument\n",
    "\n",
    "def display_monuments(city):\n",
    "    city = city.lower()     # Convert city name to lower case\n",
    "    \n",
    "    if city == 'delhi':\n",
    "        return \"Red Fort\"\n",
    "    elif city == 'agra':\n",
    "        return \"Taj Mahal\"\n",
    "    elif city == 'jaipur':\n",
    "        return \"Jal Mahal\"\n",
    "    else:\n",
    "        return \"Monuments not available for this city\"\n",
    "    \n",
    "try:\n",
    "    #Accept city from user\n",
    "    city=input(\"Enter the city name: \")\n",
    "    \n",
    "    # Display Monuments based on city\n",
    "    monumnet = display_monuments(city)\n",
    "    print(f\"Monument in {city.title()} : {monumnet}\")\n",
    "except Exception as e:\n",
    "    print(f\"Error: {e}\")\n",
    "    "
   ]
  },
  {
   "cell_type": "code",
   "execution_count": 13,
   "id": "0905fdc9-d78c-4764-83ad-70ac2d357ef4",
   "metadata": {},
   "outputs": [
    {
     "name": "stdin",
     "output_type": "stream",
     "text": [
      "Enter a number :  45\n"
     ]
    },
    {
     "name": "stdout",
     "output_type": "stream",
     "text": [
      "The number 45 is divided by 3 =  2 times before it became less than or equal to 10.\n"
     ]
    }
   ],
   "source": [
    "## Check how many times given number is divided by 3 before it is less than equal to 10\n",
    "\n",
    "def count_divisible_by_3(num):\n",
    "    count = 0\n",
    "    while num >=10:\n",
    "        num /=3\n",
    "        count += 1\n",
    "    return count\n",
    "\n",
    "try:\n",
    "    number = int(input(\"Enter a number : \"))\n",
    "    divisions = count_divisible_by_3(number)\n",
    "    print(f\"The number {number} is divided by 3 =  {divisions} times before it became less than or equal to 10.\")\n",
    "except ValueError:\n",
    "    print(\"Invalid input. Please enter valid integer\")"
   ]
  },
  {
   "cell_type": "markdown",
   "id": "1146ce53-f784-4266-845d-06e8f6c4c791",
   "metadata": {},
   "source": [
    "Why and when to use while loop give detailed description with example\n",
    "\n",
    "\n",
    "The while loop in Python is used when you want to repeatedly execute a block of statements as long as a condition is true. Unlike for loops, which are typically used when you know the number of iterations beforehand, while loops are useful when you want to keep iterating until a certain condition becomes false.\n",
    "\n",
    "Syntax:\n",
    "while condition:\n",
    "    # Indented block of code\n",
    "    # Statements to execute while condition is True\n",
    "\n",
    "Detailed Description:\n",
    "1. Condition: \n",
    "The loop begins by evaluating a condition. If the condition is true, the block of statements inside the while loop is executed. If the condition is false from the beginning, the block of code inside the loop is never executed.\n",
    "\n",
    "2. Execution Flow: \n",
    "The condition is checked before each iteration of the loop. If the condition is true, the block of code inside the loop is executed.\n",
    "After executing the block of code, the condition is checked again. If it is still true, the loop executes again; if false, the loop terminates and control passes to the next statement after the while loop.\n",
    "Use Cases:\n",
    "\n",
    "3. Unknown Number of Iterations:\n",
    "Use a while loop when you don't know beforehand how many times you need to execute a block of code. For example, reading input from a user until they provide a specific input (e.g., \"quit\").\n",
    "\n",
    "4. Looping until a Condition:\n",
    "When you want to repeatedly execute a block of code until a certain condition is met. For instance, processing items in a list until you find a specific item or condition.\n",
    "\n",
    "Example:\n",
    "Let's consider an example where we use a while loop to sum integers entered by the user until they enter a negative number:\n",
    "# Initialize sum and number\n",
    "total = 0\n",
    "number = int(input(\"Enter an integer (negative to quit): \"))\n",
    "\n",
    "while number >= 0:\n",
    "    total += number\n",
    "    number = int(input(\"Enter another integer (negative to quit): \"))\n",
    "\n",
    "print(f\"The sum of all entered integers is: {total}\")\n",
    "\n",
    "Explanation of the Example:\n",
    "Initialization: total is initialized to 0. number is initialized with user input.\n",
    "\n",
    "While Loop:\n",
    "\n",
    "The while loop checks if number is greater than or equal to 0.\n",
    "If true, it adds number to total and prompts the user for another input (number = int(input(\"Enter another integer (negative to quit): \"))).\n",
    "This process continues until the user enters a negative number (number < 0), at which point the loop terminates.\n",
    "Output: Finally, it prints the sum of all entered integers (total).\n",
    "\n",
    "Advantages of while Loop:\n",
    "1. Flexibility: Allows flexibility in loop control as it depends on the condition.\n",
    "\n",
    "2. Handling Dynamic Conditions: Ideal for scenarios where the number of iterations is not known beforehand or depends on user input.\n",
    "\n",
    "Caution:\n",
    "1. Potential Infinite Loops: If the condition in a while loop never becomes false, it can result in an infinite loop, which may cause the program to hang or crash. Ensure the condition is eventually false to avoid this."
   ]
  },
  {
   "cell_type": "code",
   "execution_count": 14,
   "id": "c76d31df-e47e-4502-90be-d3dc14ee7803",
   "metadata": {},
   "outputs": [
    {
     "name": "stdout",
     "output_type": "stream",
     "text": [
      "1 2 3 4 5 \n",
      "1 2 3 4 5 \n",
      "1 2 3 4 5 \n",
      "1 2 3 4 5 \n",
      "1 2 3 4 5 \n"
     ]
    }
   ],
   "source": [
    "\n",
    "## Use nested while loop to print 3 different patterns\n",
    "\n",
    "\n",
    "# Pattern 1: Square Pattern\n",
    "row = 1\n",
    "while row <= 5:\n",
    "    column = 1\n",
    "    while column <= 5:\n",
    "        print(column, end=\" \")\n",
    "        column += 1\n",
    "    print()  # Move to the next line after printing each row\n",
    "    row += 1\n",
    "\n"
   ]
  },
  {
   "cell_type": "code",
   "execution_count": 15,
   "id": "7225c3f2-5d73-4d23-9eb4-8d0fed983f7c",
   "metadata": {},
   "outputs": [
    {
     "name": "stdout",
     "output_type": "stream",
     "text": [
      "1 \n",
      "1 2 \n",
      "1 2 3 \n",
      "1 2 3 4 \n",
      "1 2 3 4 5 \n"
     ]
    }
   ],
   "source": [
    "# Pattern 2: Right Triangle Pattern\n",
    "row = 1\n",
    "while row <= 5:\n",
    "    column = 1\n",
    "    while column <= row:\n",
    "        print(column, end=\" \")\n",
    "        column += 1\n",
    "    print()  # Move to the next line after printing each row\n",
    "    row += 1\n"
   ]
  },
  {
   "cell_type": "code",
   "execution_count": 16,
   "id": "bf2b3613-1c63-4a13-87cf-7a53c3fa5aa3",
   "metadata": {},
   "outputs": [
    {
     "name": "stdout",
     "output_type": "stream",
     "text": [
      "1 2 3 4 5 \n",
      "1 2 3 4 \n",
      "1 2 3 \n",
      "1 2 \n",
      "1 \n"
     ]
    }
   ],
   "source": [
    "# Pattern 3: Inverted Right Triangle Pattern\n",
    "row = 5\n",
    "while row >= 1:\n",
    "    column = 1\n",
    "    while column <= row:\n",
    "        print(column, end=\" \")\n",
    "        column += 1\n",
    "    print()  # Move to the next line after printing each row\n",
    "    row -= 1\n"
   ]
  },
  {
   "cell_type": "code",
   "execution_count": 17,
   "id": "540f4149-6c45-4278-9e9c-6132133ede60",
   "metadata": {},
   "outputs": [
    {
     "name": "stdout",
     "output_type": "stream",
     "text": [
      "10\n",
      "9\n",
      "8\n",
      "7\n",
      "6\n",
      "5\n",
      "4\n",
      "3\n",
      "2\n",
      "1\n"
     ]
    }
   ],
   "source": [
    "### Reverse a while loop to display numbers from 10 to 1\n",
    "\n",
    "# Using a while loop to display numbers from 10 to 1\n",
    "number = 10\n",
    "while number >= 1:\n",
    "    print(number)\n",
    "    number -= 1\n"
   ]
  },
  {
   "cell_type": "code",
   "execution_count": null,
   "id": "50f0f528-9b5c-4606-ab5d-4979e7e45f8a",
   "metadata": {},
   "outputs": [],
   "source": []
  }
 ],
 "metadata": {
  "kernelspec": {
   "display_name": "Python 3 (ipykernel)",
   "language": "python",
   "name": "python3"
  },
  "language_info": {
   "codemirror_mode": {
    "name": "ipython",
    "version": 3
   },
   "file_extension": ".py",
   "mimetype": "text/x-python",
   "name": "python",
   "nbconvert_exporter": "python",
   "pygments_lexer": "ipython3",
   "version": "3.10.8"
  }
 },
 "nbformat": 4,
 "nbformat_minor": 5
}
