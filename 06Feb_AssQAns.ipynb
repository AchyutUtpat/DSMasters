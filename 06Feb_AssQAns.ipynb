{
 "cells": [
  {
   "cell_type": "markdown",
   "id": "2130d8e7-f7bf-4280-81b2-5789e9f2e997",
   "metadata": {},
   "source": [
    "Q1. Create a function which will take a list as an argument and return the product of all the numbers\n",
    "after creating a flat list.\n",
    "Use the below-given list as an argument for your function.\n",
    "list1 = [1,2,3,4, [44,55,66, True], False, (34,56,78,89,34), {1,2,3,3,2,1}, {1:34, \"key2\": [55, 67, 78, 89], 4: (45,\n",
    "22, 61, 34)}, [56, 'data science'], 'Machine Learning']\n",
    "Note: you must extract numeric keys and values of the dictionary also."
   ]
  },
  {
   "cell_type": "code",
   "execution_count": 4,
   "id": "e5c9b7ef-f7ea-44fd-95a8-d81b40119b11",
   "metadata": {},
   "outputs": [
    {
     "name": "stdout",
     "output_type": "stream",
     "text": [
      "The flat list of all the numners is :  [1, 2, 3, 4, 44, 55, 66, 34, 56, 78, 89, 34, 1, 2, 3, 1, 55, 67, 78, 89, 4, 56]\n",
      "The product of all the numners is :  59227361237697261325516800\n"
     ]
    }
   ],
   "source": [
    "def flatten_list(input_list):\n",
    "    flat_list = []\n",
    "    for element in input_list:\n",
    "        if isinstance(element, (list, tuple, set)):\n",
    "            flat_list.extend(flatten_list(element))\n",
    "        elif isinstance(element, dict):\n",
    "            for key, value in element.items():\n",
    "                if isinstance(key, (int, float)) and not isinstance(key, bool):\n",
    "                    flat_list.append(key)\n",
    "                elif isinstance(value,(int, float)) and not isinstance(value, bool):\n",
    "                    flat_list.append(value)\n",
    "                elif isinstance(value,(list, tuple, set)):\n",
    "                    flat_list.extend(flatten_list([value]))\n",
    "        elif isinstance(element,(int, float)) and not isinstance(element, bool):\n",
    "            flat_list.append(element)\n",
    "    return flat_list\n",
    "\n",
    "def product_of_numbers(input_list):\n",
    "    flat_list = flatten_list(input_list)\n",
    "    print(f\"The flat list of all the numners is :  {flat_list}\")\n",
    "    product = 1\n",
    "    for num in flat_list:\n",
    "        product *= num\n",
    "    return product\n",
    "\n",
    "# Test with the provided list\n",
    "list1 = [1,2,3,4, [44,55,66, True], False, (34,56,78,89,34), {1,2,3,3,2,1}, {1:34, \"key2\": [55, 67, 78, 89], 4: (45,\n",
    "22, 61, 34)}, [56, 'data science'], 'Machine Learning']\n",
    "\n",
    "result = product_of_numbers(list1)\n",
    "print(f\"The product of all the numners is :  {result}\")\n",
    "        \n",
    "                \n",
    "            \n",
    "        \n",
    "    "
   ]
  },
  {
   "cell_type": "markdown",
   "id": "3c8a7221-734c-47d4-8efd-b0322b13553e",
   "metadata": {},
   "source": [
    "Q2. Write a python program for encrypting a message sent to you by your friend. The logic of encryption\n",
    "should be such that, for a the output should be z. For b, the output should be y. For c, the output should\n",
    "be x respectively. Also, the whitespace should be replaced with a dollar sign. Keep the punctuation\n",
    "marks unchanged.\n",
    "Input Sentence: I want to become a Data Scientist.\n",
    "Encrypt the above input sentence using the program you just created.\n",
    "Note: Convert the given input sentence into lowercase before encrypting. The final output should be\n",
    "lowercase."
   ]
  },
  {
   "cell_type": "code",
   "execution_count": 11,
   "id": "ed138aae-7f19-4550-8709-33e342cec604",
   "metadata": {},
   "outputs": [
    {
     "name": "stdout",
     "output_type": "stream",
     "text": [
      "Originale sentence =   I want to become a Data Scientist.\n",
      "\n",
      " Encrypted sentence =   r$dzmg$gl$yvxlnv$z$wzgz$hxrvmgrhg.\n"
     ]
    }
   ],
   "source": [
    "def encrypt_message(message):\n",
    "    ## Convert the message to lower case\n",
    "    message = message.lower()\n",
    "    \n",
    "    ## Create a mapping of each letter to its opposites\n",
    "    alphabet = 'abcdefghijklmnopqrstuvwxyz'\n",
    "    opposite_alphabet = alphabet[::-1]\n",
    "    encryption_dict = {alphabet[i]: opposite_alphabet[i] for i in range(len(alphabet))}\n",
    "    encryption_dict[' '] = '$'\n",
    "    \n",
    "    \n",
    "    # Encrypt the message\n",
    "    encrypted_message=[]\n",
    "    for char in message:\n",
    "        if char in encryption_dict:\n",
    "            encrypted_message.append(encryption_dict[char])\n",
    "        else:\n",
    "            encrypted_message.append(char)\n",
    "        \n",
    "    return ''.join(encrypted_message)\n",
    "\n",
    "## Input sentence\n",
    "input_sentence = \"I want to become a Data Scientist.\"\n",
    "\n",
    "## Encrypt the input sentence\n",
    "\n",
    "encrypted_sentence = encrypt_message(input_sentence)\n",
    "print(\"Originale sentence =  \", input_sentence)\n",
    "print(\"\\n Encrypted sentence = \", encrypted_sentence )\n"
   ]
  },
  {
   "cell_type": "code",
   "execution_count": null,
   "id": "ba61351a-9668-42b5-9a7f-1b84ee460fa5",
   "metadata": {},
   "outputs": [],
   "source": []
  }
 ],
 "metadata": {
  "kernelspec": {
   "display_name": "Python 3 (ipykernel)",
   "language": "python",
   "name": "python3"
  },
  "language_info": {
   "codemirror_mode": {
    "name": "ipython",
    "version": 3
   },
   "file_extension": ".py",
   "mimetype": "text/x-python",
   "name": "python",
   "nbconvert_exporter": "python",
   "pygments_lexer": "ipython3",
   "version": "3.10.8"
  }
 },
 "nbformat": 4,
 "nbformat_minor": 5
}
