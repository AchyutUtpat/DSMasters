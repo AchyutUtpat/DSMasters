{
 "cells": [
  {
   "cell_type": "markdown",
   "id": "d0c2d12a-8ec5-48a7-b7f3-641ef583c04e",
   "metadata": {},
   "source": [
    "Which keyword is used to create a function? Create a function to return a list of odd numbers in the\n",
    "range of 1 to 25."
   ]
  },
  {
   "cell_type": "markdown",
   "id": "e1a9645e-c417-4cce-8821-3d5586c6f73d",
   "metadata": {},
   "source": [
    "In Python, the keyword used to create a function is def."
   ]
  },
  {
   "cell_type": "code",
   "execution_count": 4,
   "id": "ebbbb4a9-5da1-44ea-a8cf-27257f07d4c9",
   "metadata": {},
   "outputs": [
    {
     "name": "stdout",
     "output_type": "stream",
     "text": [
      "List of odd numbers from 1 to 25 :  [1, 3, 5, 7, 9, 11, 13, 15, 17, 19, 21, 23, 25]\n"
     ]
    }
   ],
   "source": [
    "# a function that returns a list of odd numbers in the range from 1 to 25:\n",
    "\n",
    "def get_odd_numbers():\n",
    "    odd_numbers = [num for num in range (1, 26) if num % 2 != 0]\n",
    "    return odd_numbers\n",
    "\n",
    "## Example usage\n",
    "\n",
    "odd_numbers_list = get_odd_numbers()\n",
    "print(\"List of odd numbers from 1 to 25 : \", odd_numbers_list)"
   ]
  },
  {
   "cell_type": "markdown",
   "id": "141b949e-cb28-4c31-804c-adcc8e875579",
   "metadata": {},
   "source": [
    "Why *args and **kwargs is used in some functions? Create a function each for *args and **kwargs\n",
    "to demonstrate their use."
   ]
  },
  {
   "cell_type": "code",
   "execution_count": 5,
   "id": "0c648066-63a5-4776-8e2e-e1c7e4e68e7b",
   "metadata": {},
   "outputs": [
    {
     "name": "stdout",
     "output_type": "stream",
     "text": [
      "Sum of all arguments =  15\n"
     ]
    }
   ],
   "source": [
    "####   *args is used when you want to pass a variable number of non-keyword arguments to a function.\n",
    "\n",
    "def sum_all(*args):\n",
    "    return sum(args)\n",
    "\n",
    "result = sum_all(1, 2, 3, 4, 5)\n",
    "print(\"Sum of all arguments = \", result)"
   ]
  },
  {
   "cell_type": "code",
   "execution_count": 6,
   "id": "4b98aef1-23a7-4cb7-ae79-d848154421a8",
   "metadata": {},
   "outputs": [
    {
     "name": "stdout",
     "output_type": "stream",
     "text": [
      "name : Alice\n",
      "age : 30\n",
      "occupation : Engineer\n"
     ]
    }
   ],
   "source": [
    "###### **kwargs is used when you want to pass a variable number of keyword arguments to a function.\n",
    "\n",
    "def print_details(**kwargs):\n",
    "    for key, value in kwargs.items():\n",
    "        print(f\"{key} : {value}\")\n",
    "        \n",
    "print_details(name=\"Alice\", age=30, occupation=\"Engineer\")"
   ]
  },
  {
   "cell_type": "markdown",
   "id": "9e52d60a-5edb-4405-90fb-68aa9366645d",
   "metadata": {},
   "source": [
    "What is an iterator in python? Name the method used to initialise the iterator object and the method\n",
    "used for iteration. \n",
    "Use these methods to print the first five elements of the given list [2, 4, 6, 8, 10, 12, 14,\n",
    "16, 18, 20]."
   ]
  },
  {
   "cell_type": "code",
   "execution_count": 7,
   "id": "c6702448-28a0-4267-a7c7-f8ad602a2e06",
   "metadata": {},
   "outputs": [
    {
     "name": "stdout",
     "output_type": "stream",
     "text": [
      "2\n",
      "4\n",
      "6\n",
      "8\n",
      "10\n"
     ]
    }
   ],
   "source": [
    "## An iterator in Python is an object that allows you to traverse through all the elements in a collection \n",
    "### (like a list or a tuple) one element at a time. Iterators implement two key methods:\n",
    "\n",
    "## __iter__(): This method is used to initialize the iterator object. It returns the iterator object itself.\n",
    "\n",
    "## __next__(): This method is used for iteration. It returns the next element in the sequence. \n",
    "## When there are no more elements to return, it raises a StopIteration exception.\n",
    "\n",
    "## Given list\n",
    "\n",
    "numbers = [2, 4, 6, 8, 10, 12, 14, 16, 18, 20]\n",
    "\n",
    "# Initialize iterator object\n",
    "iterator = iter(numbers)\n",
    "\n",
    "# Iterate and print the first five elements\n",
    "for _ in range(5):\n",
    "    element = next(iterator)\n",
    "    print(element)\n"
   ]
  },
  {
   "cell_type": "markdown",
   "id": "0a94724c-4118-4fa7-bab5-8adf092de568",
   "metadata": {},
   "source": [
    "What is a generator function in python? Why yield keyword is used? Give an example of a generator function."
   ]
  },
  {
   "cell_type": "markdown",
   "id": "6f4a14b7-4ec0-4f68-83b4-55f4db146e51",
   "metadata": {},
   "source": [
    "A generator function in Python is a special type of function that returns an iterator, known as a generator,\n",
    "which can be iterated over one value at a time. \n",
    "Instead of using return to return a value and terminate the function, a generator function uses the yield keyword to yield a value and suspend its state, allowing it to resume where it left off when called again."
   ]
  },
  {
   "cell_type": "markdown",
   "id": "0b66ef3d-1976-4c24-84a7-c4d3dd4c28fe",
   "metadata": {},
   "source": [
    "Why Use yield?\n",
    "Memory Efficiency: Generators are more memory-efficient than regular functions that return a list. \n",
    "They yield items one at a time and only keep one item in memory at a time.\n",
    "Lazy Evaluation: Generators compute values on-the-fly, which means they produce items only when requested. \n",
    "This is useful for working with large datasets or streams of data.\n",
    "State Suspension: The yield statement allows the function to remember its state between successive calls, making it easier to implement complex iteration logic."
   ]
  },
  {
   "cell_type": "code",
   "execution_count": 8,
   "id": "417aa699-3c95-4043-86b1-879d265e2489",
   "metadata": {},
   "outputs": [
    {
     "name": "stdout",
     "output_type": "stream",
     "text": [
      "0\n",
      "1\n",
      "1\n",
      "2\n",
      "3\n",
      "5\n",
      "8\n",
      "13\n",
      "21\n",
      "34\n"
     ]
    }
   ],
   "source": [
    "## an example of a generator function that generates an infinite sequence of Fibonacci numbers:\n",
    "\n",
    "\n",
    "def fibonacci():\n",
    "    a , b = 0, 1\n",
    "    while True:\n",
    "        yield a\n",
    "        a, b = b, a+b\n",
    "        \n",
    "# Example use\n",
    "fib_gen = fibonacci()\n",
    "\n",
    "# Print first 10 fibonacci numbers\n",
    "for _ in range(10):\n",
    "    print(next(fib_gen))\n",
    "\n",
    "    "
   ]
  },
  {
   "cell_type": "code",
   "execution_count": 14,
   "id": "3f1d1973-1843-4cdd-85d6-efcfb29161c6",
   "metadata": {},
   "outputs": [
    {
     "name": "stdout",
     "output_type": "stream",
     "text": [
      "2\n",
      "3\n",
      "5\n",
      "7\n",
      "11\n",
      "13\n",
      "17\n",
      "19\n",
      "23\n",
      "29\n",
      "31\n",
      "37\n",
      "41\n",
      "43\n",
      "47\n",
      "53\n",
      "59\n",
      "61\n",
      "67\n",
      "71\n"
     ]
    }
   ],
   "source": [
    "## The generator function prime_generator() yields prime numbers, and \n",
    "## the next() method is used to print the first 20 prime numbers.\n",
    "\n",
    "def prime_generator():\n",
    "    def is_prime(n):\n",
    "        if n <= 1:\n",
    "            return False\n",
    "        for i in range(2, int(n ** 0.5) + 1):\n",
    "            if n % i == 0:\n",
    "                return False\n",
    "        return True\n",
    "\n",
    "    number = 2\n",
    "    while number < 1000:\n",
    "        if is_prime(number):\n",
    "            yield number\n",
    "        number += 1\n",
    "\n",
    "# Example usage\n",
    "prime_gen = prime_generator()\n",
    "\n",
    "# Print the first 20 prime numbers\n",
    "for _ in range(20):\n",
    "    print(next(prime_gen))\n",
    "\n",
    "    "
   ]
  },
  {
   "cell_type": "code",
   "execution_count": 16,
   "id": "931dd97d-759e-4e14-9a22-f167c1c9adf9",
   "metadata": {},
   "outputs": [
    {
     "name": "stdout",
     "output_type": "stream",
     "text": [
      "The first 10 Fibonacci numbers are : \n",
      "0\n",
      "1\n",
      "1\n",
      "2\n",
      "3\n",
      "5\n",
      "8\n",
      "13\n",
      "21\n",
      "34\n"
     ]
    }
   ],
   "source": [
    "### Write a python program to print the first 10 Fibonacci numbers using a while loop.\n",
    "\n",
    "# Initialize the first two fibonacci numbers\n",
    "\n",
    "a, b = 0, 1\n",
    "count = 0\n",
    "\n",
    "# Number of Fibonacci numbers to print\n",
    "\n",
    "n =10\n",
    "\n",
    "print(\"The first 10 Fibonacci numbers are : \")\n",
    "\n",
    "# Use a while loop to generate Fibonacci numbers\n",
    "\n",
    "while count < n:\n",
    "    print(a)\n",
    "    #Update the values of a and b\n",
    "    a , b = b , a+b\n",
    "    count +=1"
   ]
  },
  {
   "cell_type": "code",
   "execution_count": 19,
   "id": "8d64bf09-7dc7-434b-897c-4f9cf27c9cbc",
   "metadata": {},
   "outputs": [
    {
     "name": "stdout",
     "output_type": "stream",
     "text": [
      "['p', 'w', 's', 'k', 'i', 'l', 'l', 's']\n"
     ]
    }
   ],
   "source": [
    "## Write a List Comprehension to iterate through the given string: ‘pwskills’.\n",
    "## Expected output: ['p', 'w', 's', 'k', 'i', 'l', 'l', 's']\n",
    "\n",
    "#Given string\n",
    "string = 'pwskills'\n",
    "\n",
    "# List Comprehension to iterate through each character and create a list\n",
    "output = [char for char in string]\n",
    "\n",
    "# Print the output\n",
    "print(output)\n"
   ]
  },
  {
   "cell_type": "code",
   "execution_count": 22,
   "id": "c266919d-08c0-474c-8cda-e513286b833a",
   "metadata": {},
   "outputs": [
    {
     "name": "stdin",
     "output_type": "stream",
     "text": [
      "Enter a number :  121\n"
     ]
    },
    {
     "name": "stdout",
     "output_type": "stream",
     "text": [
      "121 is palindrome number\n"
     ]
    }
   ],
   "source": [
    "## Write a python program to check whether a given number is Palindrome or not using a while loop.\n",
    "\n",
    "\n",
    "# Function to check a number is palindrom\n",
    "\n",
    "def is_palindrome(number):\n",
    "    # Make copy of original number\n",
    "    org_num = number\n",
    "    \n",
    "    # Initialize the reversed number to 0\n",
    "    rev_num = 0\n",
    "    \n",
    "    while number > 0:\n",
    "        # Get last digit of the number\n",
    "        dig = number % 10\n",
    "        # Append the digit to the reversed number\n",
    "        rev_num = rev_num * 10 + dig\n",
    "        # Remove last digit from the number\n",
    "        number = number // 10\n",
    "        \n",
    "    # check the original number and reverse number are same\n",
    "    return org_num == rev_num\n",
    "\n",
    "# Input number\n",
    "number = int(input(\"Enter a number : \"))\n",
    "\n",
    "# Check if the number is a palindrome and print the result\n",
    "if is_palindrome(number):\n",
    "    print(f\"{number} is palindrome number\")\n",
    "else:\n",
    "    print(f\"{number} is not palindrome number\")\n"
   ]
  },
  {
   "cell_type": "code",
   "execution_count": null,
   "id": "db09727a-e705-4557-9704-53a0dce50ef2",
   "metadata": {},
   "outputs": [],
   "source": [
    "#### Write a code to print odd numbers from 1 to 100 using list comprehension.\n",
    "## Note: Use a list comprehension to create a list from 1 to 100 and use another List comprehension to filter\n",
    "## out odd numbers.\n",
    "\n",
    "# Create a list from 1 to 100 \n",
    "\n",
    "numbers = [num for num in range(1, 101)]\n",
    "\n",
    "#Use comp\n",
    "\n"
   ]
  }
 ],
 "metadata": {
  "kernelspec": {
   "display_name": "Python 3 (ipykernel)",
   "language": "python",
   "name": "python3"
  },
  "language_info": {
   "codemirror_mode": {
    "name": "ipython",
    "version": 3
   },
   "file_extension": ".py",
   "mimetype": "text/x-python",
   "name": "python",
   "nbconvert_exporter": "python",
   "pygments_lexer": "ipython3",
   "version": "3.10.8"
  }
 },
 "nbformat": 4,
 "nbformat_minor": 5
}
