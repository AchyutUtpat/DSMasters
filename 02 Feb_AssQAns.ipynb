{
 "cells": [
  {
   "cell_type": "markdown",
   "id": "e08e5d53-34f9-4c0b-ae5f-9dd84eb91481",
   "metadata": {},
   "source": [
    "When to Use a for Loop\n",
    "A for loop in Python is typically used when you know the number of iterations or the range over which you want to iterate. \n",
    "It is useful when you have a collection of items (like a list, tuple, or string) or \n",
    "when you want to iterate a specific number of times.\n",
    "\n",
    "Examples:\n",
    "\n",
    "Iterating Over a Collection:\n",
    "\n"
   ]
  },
  {
   "cell_type": "code",
   "execution_count": 4,
   "id": "0e322bc6-868f-45d2-a1ac-bb665a1b3d02",
   "metadata": {},
   "outputs": [
    {
     "name": "stdout",
     "output_type": "stream",
     "text": [
      "Alice\n",
      "Bob\n",
      "Charlie\n"
     ]
    }
   ],
   "source": [
    "\n",
    "names = [\"Alice\", \"Bob\", \"Charlie\"]\n",
    "for name in names:\n",
    "    print(name)"
   ]
  },
  {
   "cell_type": "markdown",
   "id": "559a7c14-9f2e-4e4a-894a-03e97bbf7b88",
   "metadata": {},
   "source": [
    "Iterating Over a Range:"
   ]
  },
  {
   "cell_type": "code",
   "execution_count": 5,
   "id": "2c404c6b-13ef-476e-86bb-4c51c706b7ef",
   "metadata": {},
   "outputs": [
    {
     "name": "stdout",
     "output_type": "stream",
     "text": [
      "0\n",
      "1\n",
      "2\n",
      "3\n",
      "4\n"
     ]
    }
   ],
   "source": [
    "for i in range(5):\n",
    "    print(i)\n"
   ]
  },
  {
   "cell_type": "markdown",
   "id": "2b668dff-3a4a-455a-8a32-327b0684a9dd",
   "metadata": {},
   "source": [
    "Iterating Over a String:"
   ]
  },
  {
   "cell_type": "code",
   "execution_count": 6,
   "id": "8f005810-b65d-4493-b191-3cc444d2d1ff",
   "metadata": {},
   "outputs": [
    {
     "name": "stdout",
     "output_type": "stream",
     "text": [
      "H\n",
      "e\n",
      "l\n",
      "l\n",
      "o\n",
      "!\n"
     ]
    }
   ],
   "source": [
    "message = \"Hello!\"\n",
    "\n",
    "for char in message:\n",
    "    print(char)\n"
   ]
  },
  {
   "cell_type": "markdown",
   "id": "d8bde44e-3408-4dba-8476-13092eabe2e2",
   "metadata": {},
   "source": [
    "When to Use a while Loop\n",
    "A while loop in Python is used when you want to repeat a block of code as long as a condition is True. \n",
    "It is useful when you do not know the number of iterations beforehand and the loop's exit condition depends on some condition being met during execution.\n",
    "\n",
    "Examples:\n",
    "\n",
    "Iterating Until a Condition is Met:"
   ]
  },
  {
   "cell_type": "code",
   "execution_count": 7,
   "id": "bca92b19-e203-4908-b45c-19eb5894f83b",
   "metadata": {},
   "outputs": [
    {
     "name": "stdout",
     "output_type": "stream",
     "text": [
      "0\n",
      "1\n",
      "2\n",
      "3\n",
      "4\n"
     ]
    }
   ],
   "source": [
    "count = 0\n",
    "while count < 5:\n",
    "    print(count)\n",
    "    count += 1\n"
   ]
  },
  {
   "cell_type": "markdown",
   "id": "271c1911-9505-4d29-805b-8065cc5c17a7",
   "metadata": {},
   "source": [
    "Input Validation:"
   ]
  },
  {
   "cell_type": "code",
   "execution_count": 8,
   "id": "9bc4614f-7f80-4f26-9057-fa8425ca1afd",
   "metadata": {},
   "outputs": [
    {
     "name": "stdin",
     "output_type": "stream",
     "text": [
      "Enter a number between 1 and 10:  5\n"
     ]
    },
    {
     "name": "stdout",
     "output_type": "stream",
     "text": [
      "Valid input: 5\n"
     ]
    }
   ],
   "source": [
    "valid_input = False\n",
    "while not valid_input:\n",
    "    user_input = input(\"Enter a number between 1 and 10: \")\n",
    "    if user_input.isdigit():\n",
    "        number = int(user_input)\n",
    "        if 1 <= number <= 10:\n",
    "            valid_input = True\n",
    "        else:\n",
    "            print(\"Invalid input. Please try again.\")\n",
    "    else:\n",
    "        print(\"Invalid input. Please enter a number.\")\n",
    "print(\"Valid input:\", number)\n"
   ]
  },
  {
   "cell_type": "markdown",
   "id": "4ae7cee2-7e66-458f-9c90-a7f65d7b290d",
   "metadata": {},
   "source": [
    "Processing Events or Conditions:"
   ]
  },
  {
   "cell_type": "markdown",
   "id": "cf578033-5588-4a56-9f8b-d0c9cd48b614",
   "metadata": {},
   "source": [
    "running = True\n",
    "while running:\n",
    "    # Do some processing\n",
    "    if condition_met():\n",
    "        running = False\n",
    "Here, the loop continues until a specific condition (condition_met()) is satisfied."
   ]
  },
  {
   "cell_type": "code",
   "execution_count": 10,
   "id": "dd2645eb-71a5-4781-ac37-53bfcd225c27",
   "metadata": {},
   "outputs": [
    {
     "name": "stdout",
     "output_type": "stream",
     "text": [
      "Using for loop:\n",
      "Sum of first 10 natural numbers : 55\n",
      "Product of first 10 natural numbers : 3628800\n"
     ]
    }
   ],
   "source": [
    "# calculate the sum and product using for loop\n",
    "\n",
    "def sum_and_product_usin_for():\n",
    "    sum_numbers=0\n",
    "    product_numbers=1\n",
    "    \n",
    "    #Using range(1 to 11) to iterate through first 10 natural numbers (1 to 10 inclusive)\n",
    "    for num in range(1,11):\n",
    "        sum_numbers+= num\n",
    "        product_numbers *= num\n",
    "        \n",
    "    return sum_numbers, product_numbers\n",
    "# Main programme to display the results\n",
    "\n",
    "sum_results , product_results = sum_and_product_usin_for()\n",
    "\n",
    "print(\"Using for loop:\")\n",
    "print(f\"Sum of first 10 natural numbers : {sum_results}\")\n",
    "print(f\"Product of first 10 natural numbers : {product_results}\")\n"
   ]
  },
  {
   "cell_type": "code",
   "execution_count": 11,
   "id": "a3c3f195-94c5-4175-9ad3-e93dfd1115bf",
   "metadata": {},
   "outputs": [
    {
     "name": "stdout",
     "output_type": "stream",
     "text": [
      "\n",
      "Using While Loop : \n",
      "Sum of first 10 natural numbers : 55\n",
      "Product of first 10 natural numbers : 3628800\n"
     ]
    }
   ],
   "source": [
    "# Calculate the sum and product using while loop\n",
    "\n",
    "def sum_and_product_with_while():\n",
    "    sum_numbers = 0\n",
    "    product_numbers = 1\n",
    "    count = 1\n",
    "    \n",
    "    while count <= 10:\n",
    "        sum_numbers += count\n",
    "        product_numbers *= count\n",
    "        count += 1\n",
    "        \n",
    "    return sum_numbers, product_numbers\n",
    "#Main program to display results\n",
    "sum_results, product_results = sum_and_product_with_while()\n",
    "print(\"\\nUsing While Loop : \")\n",
    "print(f\"Sum of first 10 natural numbers : {sum_results}\")\n",
    "print(f\"Product of first 10 natural numbers : {product_results}\")"
   ]
  },
  {
   "cell_type": "code",
   "execution_count": 17,
   "id": "0482649a-1c87-4828-8e4a-edce82861b90",
   "metadata": {},
   "outputs": [
    {
     "name": "stdin",
     "output_type": "stream",
     "text": [
      "Enter the units consumed :  310\n"
     ]
    },
    {
     "name": "stdout",
     "output_type": "stream",
     "text": [
      "Electricity Bill for 310 units: Rs. 2250.00\n"
     ]
    }
   ],
   "source": [
    "### #################program to compute the electricity bill for a household based on the given per-unit charges:\n",
    "\n",
    "def calculate_electricity_bill(units):\n",
    "    if units <= 100:\n",
    "        bill_amount = units * 4.5\n",
    "    elif units <= 200:\n",
    "        bill_amount = 100 * 4.5 + (units - 100 ) * 6\n",
    "    elif units <= 300:\n",
    "        bill_amount = 100 * 4.5 + 100 * 6 + (units -200) *10\n",
    "    else:\n",
    "        bill_amount = 100 * 4.5 + 100 * 6 + 100 * 10 + (units - 300) * 20\n",
    "    return bill_amount\n",
    "\n",
    "##Example Usage\n",
    "\n",
    "units_consumed = int(input(\"Enter the units consumed : \"))\n",
    "\n",
    "if(units_consumed < 0):\n",
    "    print(\"Invalid unit : Units consumed should be positive number\")\n",
    "else:\n",
    "    bill = calculate_electricity_bill(units_consumed)\n",
    "    print(f\"Electricity Bill for {units_consumed} units: Rs. {bill:.2f}\")\n"
   ]
  },
  {
   "cell_type": "markdown",
   "id": "fb13f1df-f1b5-4c4e-86a1-bfc94a630acc",
   "metadata": {},
   "source": [
    "Create a list of numbers from 1 to 100. Use for loop and while loop to calculate the cube of each number and if the cube of that number is divisible by 4 or 5 then append that number in a list and print that list."
   ]
  },
  {
   "cell_type": "code",
   "execution_count": 18,
   "id": "a4ef9273-e4ba-465a-a895-492d604eb686",
   "metadata": {},
   "outputs": [
    {
     "name": "stdout",
     "output_type": "stream",
     "text": [
      "Numbers whose cuse is divisible by 4 or 5 (using for loop) : \n",
      "[2, 4, 5, 6, 8, 10, 12, 14, 15, 16, 18, 20, 22, 24, 25, 26, 28, 30, 32, 34, 35, 36, 38, 40, 42, 44, 45, 46, 48, 50, 52, 54, 55, 56, 58, 60, 62, 64, 65, 66, 68, 70, 72, 74, 75, 76, 78, 80, 82, 84, 85, 86, 88, 90, 92, 94, 95, 96, 98, 100]\n"
     ]
    }
   ],
   "source": [
    "###Using for loop\n",
    "\n",
    "numbers = list(range(1,101))\n",
    "cubs_divisible_by_4_or_5 = []\n",
    "\n",
    "for num in numbers:\n",
    "    cube = num ** 3\n",
    "    if cube % 4 == 0 or cube % 5 == 0:\n",
    "        cubs_divisible_by_4_or_5.append(num)\n",
    "\n",
    "print(\"Numbers whose cube is divisible by 4 or 5 (using for loop) : \")\n",
    "print(cubs_divisible_by_4_or_5)"
   ]
  },
  {
   "cell_type": "code",
   "execution_count": 19,
   "id": "e0ba41ba-3bbc-4c74-becf-71544b8b7262",
   "metadata": {},
   "outputs": [
    {
     "name": "stdout",
     "output_type": "stream",
     "text": [
      "\n",
      "Numbers whose cubes are divisible by 4 or 5 (using while loop)\n",
      "[2, 4, 5, 6, 8, 10, 12, 14, 15, 16, 18, 20, 22, 24, 25, 26, 28, 30, 32, 34, 35, 36, 38, 40, 42, 44, 45, 46, 48, 50, 52, 54, 55, 56, 58, 60, 62, 64, 65, 66, 68, 70, 72, 74, 75, 76, 78, 80, 82, 84, 85, 86, 88, 90, 92, 94, 95, 96, 98, 100]\n"
     ]
    }
   ],
   "source": [
    "### Using while loop\n",
    "\n",
    "numbers = list(range(1,101))\n",
    "cubs_divisible_by_4_or_5 = []\n",
    "index =0\n",
    "\n",
    "while index < len(numbers):\n",
    "    num = numbers[index]\n",
    "    cube = num ** 3\n",
    "    if cube % 4 == 0 or cube % 5 == 0:\n",
    "        cubs_divisible_by_4_or_5.append(num) \n",
    "    index += 1\n",
    "\n",
    "print(\"\\nNumbers whose cubes are divisible by 4 or 5 (using while loop)\")\n",
    "print(cubs_divisible_by_4_or_5)"
   ]
  },
  {
   "cell_type": "markdown",
   "id": "4853652b-fc87-4f88-8dbb-df45cf25c230",
   "metadata": {},
   "source": [
    "To count the number of vowels in a given string, you can write a Python program that iterates through each character in the string and checks if it is a vowel."
   ]
  },
  {
   "cell_type": "code",
   "execution_count": null,
   "id": "d020529e-11ca-41a6-8f40-20c67db0d463",
   "metadata": {},
   "outputs": [],
   "source": [
    "#### dount vowels\n",
    "\n",
    "def count_vowels(s):\n",
    "    vowels = \"aeiouAEIOU\" \n",
    "    vowel_count = 0\n",
    "    \n",
    "    for char in s:\n",
    "        if char in vowels:\n",
    "            vowel_count +=1\n",
    "        \n",
    "    return vowel_count\n",
    "\n",
    "# Given String\n",
    "string = \"I want to become a data scientis\"\n",
    "\n",
    "# Calculate and print number of vowels\n",
    "\n",
    "num_vowels = count_vowels()"
   ]
  }
 ],
 "metadata": {
  "kernelspec": {
   "display_name": "Python 3 (ipykernel)",
   "language": "python",
   "name": "python3"
  },
  "language_info": {
   "codemirror_mode": {
    "name": "ipython",
    "version": 3
   },
   "file_extension": ".py",
   "mimetype": "text/x-python",
   "name": "python",
   "nbconvert_exporter": "python",
   "pygments_lexer": "ipython3",
   "version": "3.10.8"
  }
 },
 "nbformat": 4,
 "nbformat_minor": 5
}
