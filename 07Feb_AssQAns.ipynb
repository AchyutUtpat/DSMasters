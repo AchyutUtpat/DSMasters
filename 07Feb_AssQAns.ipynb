{
 "cells": [
  {
   "cell_type": "markdown",
   "id": "0540fae6-4f76-42fd-ba45-d27240623fac",
   "metadata": {},
   "source": [
    "Q1. You are writing code for a company. The requirement of the company is that you create a python\n",
    "function that will check whether the password entered by the user is correct or not. The function should\n",
    "take the password as input and return the string “Valid Password” if the entered password follows the\n",
    "below-given password guidelines else it should return “Invalid Password”.\n",
    "Note: 1. The Password should contain at least two uppercase letters and at least two lowercase letters.\n",
    "2. The Password should contain at least a number and three special characters.\n",
    "3. The length of the password should be 10 characters long."
   ]
  },
  {
   "cell_type": "code",
   "execution_count": 4,
   "id": "5a7a0622-3493-4586-8d0a-22b802c383c2",
   "metadata": {},
   "outputs": [
    {
     "name": "stdout",
     "output_type": "stream",
     "text": [
      "Valid password\n",
      "Invalid password\n",
      "Invalid password\n",
      " Invalid password\n",
      "Invalid password\n"
     ]
    }
   ],
   "source": [
    "import re\n",
    "\n",
    "def check_pwd(password):\n",
    "    ## Check the length of the password\n",
    "    if len(password) != 10:\n",
    "        return \"Invalid password\"\n",
    "    ## Check for atleast 2 upper case\n",
    "    if len(re.findall(r'[A-Z]',password)) < 2:\n",
    "        return \" Invalid password\"\n",
    "    ## Check for atleast 2 lower case\n",
    "    if len(re.findall(r'[a-z]',password)) < 2:\n",
    "        return \"Invalid Password\"\n",
    "    ## check atleast one number\n",
    "    if len(re.findall(r'[0-9]',password)) < 1:\n",
    "        return \"Invalid password\" \n",
    "    ## Check atleast 3 special characters\n",
    "    if len(re.findall(r'[!@#$%^&*(),.?\":{}|<>]',password)) < 3:\n",
    "        return \"Invalid password\"\n",
    "    \n",
    "    return \"Valid password\"\n",
    "\n",
    "## Test Cases\n",
    "\n",
    "print(check_pwd(\"A1B@#$%^cd\")) ## Valid Password\n",
    "print(check_pwd(\"A1b2@#c\")) ## InValid Password\n",
    "print(check_pwd(\"A1b2C3D4e5\")) ## InValid Password\n",
    "print(check_pwd(\"abcdefghij\")) ## InValid Password\n",
    "print(check_pwd(\"AAAbbb1111\")) ## InValid Password\n",
    "\n"
   ]
  },
  {
   "cell_type": "code",
   "execution_count": 9,
   "id": "881957c1-85fc-4099-85c2-cdc7f9481b65",
   "metadata": {},
   "outputs": [
    {
     "name": "stdout",
     "output_type": "stream",
     "text": [
      "True\n",
      "False\n"
     ]
    }
   ],
   "source": [
    "## 1. Check if the string starts with a particular letter\n",
    "# Using Lambda Function:\n",
    "start_with = lambda s, letter: s.startswith(letter)\n",
    "print(start_with(\"python\",\"p\"))\n",
    "print(start_with(\"java\",\"p\"))"
   ]
  },
  {
   "cell_type": "code",
   "execution_count": 10,
   "id": "d5fa1994-f8e3-4761-ab96-7e1830ceefef",
   "metadata": {},
   "outputs": [
    {
     "name": "stdout",
     "output_type": "stream",
     "text": [
      "True\n",
      "False\n"
     ]
    }
   ],
   "source": [
    "## 2. Check if the string is numeric\n",
    "# Using Lambda Function:\n",
    "\n",
    "is_numeric = lambda s: s.isnumeric()\n",
    "print(is_numeric(\"12345\"))  # True\n",
    "print(is_numeric(\"123a5\"))  # False\n"
   ]
  },
  {
   "cell_type": "code",
   "execution_count": 11,
   "id": "cd379ea2-79e4-4843-8eb9-494b3221a466",
   "metadata": {},
   "outputs": [
    {
     "name": "stdout",
     "output_type": "stream",
     "text": [
      "[('orange', 80), ('mango', 99), ('grapes', 1000)]\n"
     ]
    }
   ],
   "source": [
    "## 3. Sort a list of tuples having fruit names and their quantity\n",
    "# Using Lambda Function:\n",
    "fruits = [(\"mango\", 99), (\"orange\", 80), (\"grapes\", 1000)]\n",
    "sorted_fruits = sorted(fruits, key=lambda x: x[1])\n",
    "print(sorted_fruits)  # [('orange', 80), ('mango', 99), ('grapes', 1000)]\n"
   ]
  },
  {
   "cell_type": "code",
   "execution_count": 12,
   "id": "bf144397-d184-443a-ab11-809247ca62bf",
   "metadata": {},
   "outputs": [
    {
     "name": "stdout",
     "output_type": "stream",
     "text": [
      "[1, 4, 9, 16, 25, 36, 49, 64, 81, 100]\n"
     ]
    }
   ],
   "source": [
    "## 4. Find the squares of numbers from 1 to 10\n",
    "# Using List Comprehension:\n",
    "\n",
    "squares = [x**2 for x in range(1, 11)]\n",
    "print(squares)  # [1, 4, 9, 16, 25, 36, 49, 64, 81, 100]\n"
   ]
  },
  {
   "cell_type": "code",
   "execution_count": 13,
   "id": "2fdae7cf-6020-4437-82f2-51641d24dd74",
   "metadata": {},
   "outputs": [
    {
     "name": "stdout",
     "output_type": "stream",
     "text": [
      "[1.0, 1.2599210498948732, 1.4422495703074083, 1.5874010519681994, 1.7099759466766968, 1.8171205928321397, 1.912931182772389, 2.0, 2.080083823051904, 2.154434690031884]\n"
     ]
    }
   ],
   "source": [
    "## 5. Find the cube root of numbers from 1 to 10\n",
    "# Using List Comprehension:\n",
    "\n",
    "import math\n",
    "cube_roots = [math.pow(x, 1/3) for x in range(1, 11)]\n",
    "print(cube_roots) \n",
    "    "
   ]
  },
  {
   "cell_type": "code",
   "execution_count": 14,
   "id": "22164295-1c4d-4077-8d0c-87e8e2677629",
   "metadata": {},
   "outputs": [
    {
     "name": "stdout",
     "output_type": "stream",
     "text": [
      "True\n",
      "False\n"
     ]
    }
   ],
   "source": [
    "## 6. Check if a given number is even\n",
    "# Using Lambda Function:\n",
    "\n",
    "is_even = lambda x: x % 2 == 0\n",
    "print(is_even(4))  # True\n",
    "print(is_even(7))  # False\n"
   ]
  },
  {
   "cell_type": "code",
   "execution_count": 15,
   "id": "b1ec2309-813f-4538-a83f-06043b035702",
   "metadata": {},
   "outputs": [
    {
     "name": "stdout",
     "output_type": "stream",
     "text": [
      "[1, 3, 5, 7, 9]\n"
     ]
    }
   ],
   "source": [
    "## 7. Filter odd numbers from the given list\n",
    "# Using Filter Function and Lambda:\n",
    "\n",
    "numbers = [1, 2, 3, 4, 5, 6, 7, 8, 9, 10]\n",
    "odd_numbers = list(filter(lambda x: x % 2 != 0, numbers))\n",
    "print(odd_numbers)  \n"
   ]
  },
  {
   "cell_type": "code",
   "execution_count": 16,
   "id": "e0aaf5be-a7d8-4dba-8594-2ba7c03554d2",
   "metadata": {},
   "outputs": [
    {
     "name": "stdout",
     "output_type": "stream",
     "text": [
      "[1, 2, 3, 4, 5, 6]\n",
      "[-1, -2, -3, -4, -5]\n"
     ]
    }
   ],
   "source": [
    "## 8. Sort a list of integers into positive and negative integers lists\n",
    "#Using List Comprehension:\n",
    "\n",
    "numbers = [1, 2, 3, 4, 5, 6, -1, -2, -3, -4, -5, 0]\n",
    "positive_numbers = [x for x in numbers if x > 0]\n",
    "negative_numbers = [x for x in numbers if x < 0]\n",
    "print(positive_numbers)  \n",
    "print(negative_numbers)  \n"
   ]
  },
  {
   "cell_type": "code",
   "execution_count": null,
   "id": "e263e3c9-3add-4aa3-884b-e5e42fc7dbf0",
   "metadata": {},
   "outputs": [],
   "source": []
  }
 ],
 "metadata": {
  "kernelspec": {
   "display_name": "Python 3 (ipykernel)",
   "language": "python",
   "name": "python3"
  },
  "language_info": {
   "codemirror_mode": {
    "name": "ipython",
    "version": 3
   },
   "file_extension": ".py",
   "mimetype": "text/x-python",
   "name": "python",
   "nbconvert_exporter": "python",
   "pygments_lexer": "ipython3",
   "version": "3.10.8"
  }
 },
 "nbformat": 4,
 "nbformat_minor": 5
}
