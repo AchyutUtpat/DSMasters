{
 "cells": [
  {
   "cell_type": "markdown",
   "id": "b7908477-151c-4709-86b3-1b4d28aea81f",
   "metadata": {},
   "source": [
    "Class and Object in Object-Oriented Programming (OOP)\n",
    "\n",
    "\n",
    "Class:\n",
    "A class is a blueprint or template for creating objects. It defines a set of attributes (data) and methods (functions) that the created objects can use. A class encapsulates data and the functions that operate on that data into a single unit.\n",
    "\n",
    "Object:\n",
    "An object is an instance of a class. When a class is defined, no memory is allocated until an object of that class is created. Each object can have unique attribute values, but they share the methods defined in the class.\n"
   ]
  },
  {
   "cell_type": "code",
   "execution_count": 1,
   "id": "de5824a6-ba57-415b-84d5-006b053b57da",
   "metadata": {},
   "outputs": [
    {
     "name": "stdout",
     "output_type": "stream",
     "text": [
      "Car Details: 2020 Toyota Camry\n",
      "The Camry is starting.\n",
      "The Camry is stopping.\n",
      "Car Details: 2021 Honda Accord\n",
      "The Accord is starting.\n",
      "The Accord is stopping.\n"
     ]
    }
   ],
   "source": [
    "# Example:\n",
    "## Let’s consider a simple example involving a class Car:\n",
    "\n",
    "### Define the Class:\n",
    "\n",
    "class Car:\n",
    "    # Constructor method to initialize the object\n",
    "    def __init__(self, make, model, year):\n",
    "        self.make = make  # attribute\n",
    "        self.model = model  # attribute\n",
    "        self.year = year  # attribute\n",
    "    \n",
    "    # Method to display car details\n",
    "    def display_details(self):\n",
    "        print(f\"Car Details: {self.year} {self.make} {self.model}\")\n",
    "\n",
    "    # Method to start the car\n",
    "    def start(self):\n",
    "        print(f\"The {self.model} is starting.\")\n",
    "\n",
    "    # Method to stop the car\n",
    "    def stop(self):\n",
    "        print(f\"The {self.model} is stopping.\")\n",
    "\n",
    "## Create Objects (Instances) of the Class:\n",
    "\n",
    "# Create instances (objects) of the Car class\n",
    "car1 = Car(\"Toyota\", \"Camry\", 2020)\n",
    "car2 = Car(\"Honda\", \"Accord\", 2021)\n",
    "\n",
    "# Access attributes and call methods on the objects\n",
    "car1.display_details()  # Output: Car Details: 2020 Toyota Camry\n",
    "car1.start()            # Output: The Camry is starting.\n",
    "car1.stop()             # Output: The Camry is stopping.\n",
    "\n",
    "car2.display_details()  # Output: Car Details: 2021 Honda Accord\n",
    "car2.start()            # Output: The Accord is starting.\n",
    "car2.stop()             # Output: The Accord is stopping.\n",
    "\n",
    "\n",
    "    "
   ]
  },
  {
   "cell_type": "markdown",
   "id": "2c239531-8900-40b0-9d38-7c2822f4ef55",
   "metadata": {},
   "source": [
    "Explanation:\n",
    "Class Definition (Car):\n",
    "\n",
    "The Car class is defined with a constructor method __init__() to initialize the attributes make, model, and year.\n",
    "Three methods display_details(), start(), and stop() are defined to provide behaviors for the Car objects.\n",
    "Object Creation (car1 and car2):\n",
    "\n",
    "car1 and car2 are objects (instances) of the Car class, created using the class constructor.\n",
    "Each object has its own values for make, model, and year attributes.\n",
    "Accessing Methods and Attributes:\n",
    "\n",
    "The display_details() method is called on both car1 and car2 to display their respective details.\n",
    "The start() and stop() methods are called to simulate starting and stopping the cars."
   ]
  },
  {
   "cell_type": "markdown",
   "id": "0a13a198-89fc-45a2-ac1d-4416cf289eed",
   "metadata": {},
   "source": [
    "## Name the four pillars of OOPs.\n",
    "\n",
    "1. Encapsulation:\n",
    "\n",
    "Encapsulation is the concept of bundling the data (attributes) and the methods (functions) that operate on the data into a single unit or class. It also involves restricting access to certain details of an object to prevent unauthorized modification. This is typically achieved through access modifiers like private, protected, and public.\n",
    "\n",
    "2. Abstraction:\n",
    "\n",
    "Abstraction involves hiding the complex implementation details and showing only the essential features of an object. It helps in reducing programming complexity and effort. Abstraction can be achieved using abstract classes and interfaces, which define methods without implementing them.\n",
    "\n",
    "3. Inheritance:\n",
    "\n",
    "Inheritance is the mechanism by which one class (called a child or subclass) can inherit attributes and methods from another class (called a parent or superclass). It promotes code reusability and establishes a relationship between different classes. The subclass can extend or modify the behavior of the superclass.\n",
    "\n",
    "4. Polymorphism:\n",
    "\n",
    "Polymorphism means \"many forms.\" It allows objects to be treated as instances of their parent class rather than their actual class. There are two types of polymorphism: compile-time (method overloading) and runtime (method overriding). Polymorphism enables a single interface to represent different underlying forms (data types)."
   ]
  },
  {
   "cell_type": "code",
   "execution_count": 2,
   "id": "a9f23235-f9c8-4144-ac7d-e89e321c79ea",
   "metadata": {},
   "outputs": [
    {
     "name": "stdout",
     "output_type": "stream",
     "text": [
      "Buddy says Woof!\n",
      "Whiskers says Meow!\n"
     ]
    }
   ],
   "source": [
    "## Example Illustrating the Four Pillars of OOP:\n",
    "\n",
    "### Consider a simple example involving a base class Animal and derived classes Dog and Cat:\n",
    "\n",
    "# Encapsulation and Abstraction\n",
    "\n",
    "class Animal:\n",
    "    def __init__(self, name):\n",
    "        self._name = name  # Encapsulation: using a protected attribute\n",
    "\n",
    "    def speak(self):\n",
    "        raise NotImplementedError(\"Subclass must implement abstract method\")\n",
    "\n",
    "# Inheritance and Polymorphism\n",
    "\n",
    "class Dog(Animal):\n",
    "    def speak(self):\n",
    "        return f\"{self._name} says Woof!\"\n",
    "\n",
    "class Cat(Animal):\n",
    "    def speak(self):\n",
    "        return f\"{self._name} says Meow!\"\n",
    "\n",
    "# Creating instances of Dog and Cat\n",
    "\n",
    "dog = Dog(\"Buddy\")\n",
    "cat = Cat(\"Whiskers\")\n",
    "\n",
    "# Using polymorphism: the same method 'speak' behaves differently based on the object\n",
    "\n",
    "animals = [dog, cat]\n",
    "for animal in animals:\n",
    "    print(animal.speak())\n"
   ]
  },
  {
   "cell_type": "markdown",
   "id": "76780b94-984b-4f2e-8439-a15b6be5ab04",
   "metadata": {},
   "source": [
    "Explain why the init() function is used. Give a suitable example.\n",
    "\n",
    "The __init__() function, also known as the constructor, is a special method in Python classes. It is automatically called when an instance (object) of the class is created. The primary purpose of __init__() is to initialize the object's attributes and perform any setup necessary for the object.\n",
    "\n",
    "Key Points:\n",
    "Initialization: It sets the initial state of the object by assigning values to the object’s properties.\n",
    "Automatic Invocation: It is automatically invoked when a new object of the class is instantiated.\n",
    "Customization: Allows passing parameters to customize the object upon creation.\n",
    "\n",
    "Syntax:\n",
    "\n",
    "class ClassName:\n",
    "    def __init__(self, parameters):\n",
    "        self.attribute = parameters\n",
    "\n",
    "\n"
   ]
  },
  {
   "cell_type": "code",
   "execution_count": 4,
   "id": "de91f44e-53d2-428f-9b1c-f58e2c367847",
   "metadata": {},
   "outputs": [
    {
     "name": "stdout",
     "output_type": "stream",
     "text": [
      "Name: kalyan, Age: 30\n",
      "Name: babu, Age: 25\n"
     ]
    }
   ],
   "source": [
    "## Example: Consider a class Person to illustrate the use of __init__():\n",
    "\n",
    "class Person:\n",
    "    def __init__(self, name, age):\n",
    "        self.name= name\n",
    "        self.age=age\n",
    "    \n",
    "    def display(self):\n",
    "        print(f\"Name: {self.name}, Age: {self.age}\")\n",
    "        \n",
    "## Creating an instance of person class\n",
    "person1 = Person(\"kalyan\", 30)\n",
    "person2 = Person(\"babu\", 25)\n",
    "\n",
    "# Accessing attributes and methods of class\n",
    "\n",
    "person1.display()\n",
    "person2.display()\n",
    "    "
   ]
  },
  {
   "cell_type": "markdown",
   "id": "e2a87248-e6f8-4046-ae03-4bd9bebf5fa0",
   "metadata": {},
   "source": [
    "Explanation:\n",
    "1. Class Definition (Person):\n",
    "\n",
    "class Person: Defines a new class named Person.\n",
    "\n",
    "2. Constructor (__init__() Method):\n",
    "\n",
    "def __init__(self, name, age): The constructor takes three parameters: self, name, and age.\n",
    "self.name = name: Initializes the name attribute of the object with the given name parameter.\n",
    "self.age = age: Initializes the age attribute of the object with the given age parameter.\n",
    "\n",
    "3. Creating Instances:\n",
    "\n",
    "person1 = Person(\"Alice\", 30): Creates a new Person object with the name \"Alice\" and age 30. The __init__() method is called automatically to set these values.\n",
    "person2 = Person(\"Bob\", 25): Creates another Person object with the name \"Bob\" and age 25.\n",
    "\n",
    "4. Accessing Attributes and Methods:\n",
    "\n",
    "person1.display(): Calls the display() method on person1, which prints the name and age of person1.\n",
    "person2.display(): Calls the display() method on person2, which prints the name and age of person2.\n",
    "\n",
    "5. Benefits of Using __init__():\n",
    "Automatic Initialization: Ensures that objects are always initialized with the required attributes.\n",
    "Readability: Makes the code easier to read and understand by clearly defining what attributes the objects will have.\n",
    "Customization: Allows the creation of objects with different initial values by passing parameters to the constructor."
   ]
  },
  {
   "cell_type": "markdown",
   "id": "1d97b736-a4db-492c-b544-0fee32f9d5b2",
   "metadata": {},
   "source": [
    "#### Why self is used in OOPs?\n",
    "\n",
    "In Object-Oriented Programming (OOP) in Python, the self parameter is used in method definitions to refer to the instance of the class on which the method is being called. It is a way for methods to access attributes and other methods of the same object.\n",
    "\n",
    "Key Points:\n",
    "1. Access Instance Attributes:\n",
    "\n",
    "self allows methods to access and modify the attributes of the object. Without self, the method would not know which object's attributes to work with.\n",
    "\n",
    "2. Differentiate Between Instance and Local Variables:\n",
    "\n",
    "Using self helps distinguish between instance attributes (which are prefixed with self.) and local variables within the methods.\n",
    "\n",
    "3. Invoke Other Methods:\n",
    "\n",
    "self enables an object to call other methods within the same class. This helps in building complex functionalities by combining multiple methods."
   ]
  },
  {
   "cell_type": "code",
   "execution_count": 8,
   "id": "dfc171a2-8d37-44b9-9f44-a72a53898ae8",
   "metadata": {},
   "outputs": [
    {
     "name": "stdout",
     "output_type": "stream",
     "text": [
      "The camry started\n",
      "Car details : Toyoto camry 2020\n",
      "The Accord started\n",
      "Car details : Honda Accord 2021\n"
     ]
    }
   ],
   "source": [
    "### Example: Consider a class Car to illustrate the use of self:\n",
    "\n",
    "\n",
    "class Car:\n",
    "    def __init__(self, make, model, year):\n",
    "        self.make = make\n",
    "        self.model = model\n",
    "        self.year = year\n",
    "        \n",
    "    def display_details(self):\n",
    "        print(f\"Car details : {self.make} {self.model} {self.year}\")\n",
    "        \n",
    "    def start(self):\n",
    "        print(f\"The {self.model} started\")\n",
    "        self.display_details()\n",
    "        \n",
    "## Creating instances of the class\n",
    "\n",
    "car1 = Car(\"Toyoto\",\"camry\",2020)\n",
    "car2 = Car(\"Honda\",\"Accord\",2021)\n",
    "\n",
    "car1.start()\n",
    "car2.start()\n"
   ]
  },
  {
   "cell_type": "markdown",
   "id": "d3586bbc-ded9-4a05-8490-3f7c15ad86fc",
   "metadata": {},
   "source": [
    "Explanation:\n",
    "1. Class Definition (Car):\n",
    "\n",
    "class Car: Defines a new class named Car.\n",
    "\n",
    "2. Constructor (__init__() Method):\n",
    "\n",
    "def __init__(self, make, model, year): The constructor method takes four parameters, including self.\n",
    "self.make = make: Initializes the make attribute of the instance.\n",
    "self.model = model: Initializes the model attribute of the instance.\n",
    "self.year = year: Initializes the year attribute of the instance.\n",
    "\n",
    "3. Instance Method (display_details):\n",
    "\n",
    "def display_details(self): Defines a method that prints the details of the car.\n",
    "print(f\"Car Details: {self.year} {self.make} {self.model}\"): Uses self to access the instance attributes.\n",
    "\n",
    "4. Instance Method (start):\n",
    "\n",
    "def start(self): Defines a method that prints a message and calls another method.\n",
    "print(f\"The {self.model} is starting.\"): Uses self to access the instance attribute model.\n",
    "self.display_details(): Calls another method of the same object using self.\n",
    "\n",
    "5. Creating Instances:\n",
    "\n",
    "car1 = Car(\"Toyota\", \"Camry\", 2020): Creates an instance of Car.\n",
    "car2 = Car(\"Honda\", \"Accord\", 2021): Creates another instance of Car.\n",
    "\n",
    "6. Calling Methods:\n",
    "\n",
    "car1.start(): Calls the start method on car1, which in turn calls the display_details method.\n",
    "car2.start(): Calls the start method on car2, which in turn calls the display_details method."
   ]
  },
  {
   "cell_type": "markdown",
   "id": "f538cb3d-6a8a-40d6-b558-4749e02b5abc",
   "metadata": {},
   "source": [
    "####  What is inheritance? Give an example for each type of inheritance.\n",
    "\n",
    "Inheritance is a fundamental concept in Object-Oriented Programming (OOP) that allows a class (called a subclass or derived class) to inherit attributes and methods from another class (called a superclass or base class). Inheritance promotes code reusability and establishes a relationship between different classes.\n",
    "\n",
    "Types of Inheritance:\n",
    "1. Single Inheritance:\n",
    "A subclass inherits from a single superclass.\n",
    "2. Multiple Inheritance:\n",
    "A subclass inherits from more than one superclass.\n",
    "3. Multilevel Inheritance:\n",
    "A subclass inherits from a superclass, and another class inherits from that subclass, creating a chain of inheritance.\n",
    "4. Hierarchical Inheritance:\n",
    "Multiple subclasses inherit from a single superclass.\n",
    "5. Hybrid Inheritance:\n",
    "A combination of two or more types of inheritance.\n",
    "\n",
    "\n",
    "1. Single Inheritance: One class inherits from one superclass.\n",
    "2. Multiple Inheritance: One class inherits from multiple superclasses.\n",
    "3. Multilevel Inheritance: A chain of inheritance involving multiple classes.\n",
    "4. Hierarchical Inheritance: Multiple classes inherit from a single superclass.\n",
    "5. Hybrid Inheritance: A combination of multiple types of inheritance."
   ]
  }
 ],
 "metadata": {
  "kernelspec": {
   "display_name": "Python 3 (ipykernel)",
   "language": "python",
   "name": "python3"
  },
  "language_info": {
   "codemirror_mode": {
    "name": "ipython",
    "version": 3
   },
   "file_extension": ".py",
   "mimetype": "text/x-python",
   "name": "python",
   "nbconvert_exporter": "python",
   "pygments_lexer": "ipython3",
   "version": "3.10.8"
  }
 },
 "nbformat": 4,
 "nbformat_minor": 5
}
