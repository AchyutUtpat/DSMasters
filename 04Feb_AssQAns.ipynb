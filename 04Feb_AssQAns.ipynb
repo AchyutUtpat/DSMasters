{
 "cells": [
  {
   "cell_type": "markdown",
   "id": "ce4e4948-5eae-4c36-a243-a3cb73638e92",
   "metadata": {},
   "source": [
    "Create a python program to sort the given list of tuples based on integer value using a\n",
    "lambda function.\n",
    "[('Sachin Tendulkar', 34357), ('Ricky Ponting', 27483), ('Jack Kallis', 25534), ('Virat Kohli', 24936)]"
   ]
  },
  {
   "cell_type": "code",
   "execution_count": 1,
   "id": "5ea49adf-b54d-4fa0-a3d2-68eca6167777",
   "metadata": {},
   "outputs": [
    {
     "name": "stdout",
     "output_type": "stream",
     "text": [
      "('Virat Kohli', 24936)\n",
      "('Jack Kallis', 25534)\n",
      "('Ricky Ponting', 27483)\n",
      "('Sachin Tendulkar', 34357)\n"
     ]
    }
   ],
   "source": [
    "## a python program to sort the given list of tuples based on integer value using a lambda function.\n",
    "\n",
    "# Given list\n",
    "\n",
    "data = [('Sachin Tendulkar', 34357), ('Ricky Ponting', 27483), ('Jack Kallis', 25534), ('Virat Kohli', 24936)]\n",
    "\n",
    "# Sort the list of tuples based on second value (integer value)\n",
    "\n",
    "sorted_data = sorted(data , key=lambda x: x[1])\n",
    "\n",
    "# Print the sorted list\n",
    "for item in sorted_data:\n",
    "    print(item)\n",
    "    \n"
   ]
  },
  {
   "cell_type": "markdown",
   "id": "5842f73a-c2f0-4f14-9463-54d588b7b53e",
   "metadata": {},
   "source": [
    "Write a Python Program to find the squares of all the numbers in the given list of integers using\n",
    "lambda and map functions.\n",
    "[1, 2, 3, 4, 5, 6, 7, 8, 9, 10]"
   ]
  },
  {
   "cell_type": "code",
   "execution_count": 3,
   "id": "6ea9a948-1d55-4a92-b2e9-330769c80be1",
   "metadata": {},
   "outputs": [
    {
     "name": "stdout",
     "output_type": "stream",
     "text": [
      "Original numbers [1, 2, 3, 4, 5, 6, 7, 8, 9, 10]\n",
      "Squares number  [1, 4, 9, 16, 25, 36, 49, 64, 81, 100]\n"
     ]
    }
   ],
   "source": [
    "## Program to find the squares of all the numbers in the given list of integers using lambda and map functions.\n",
    "\n",
    "# Given List \n",
    "data = [1, 2, 3, 4, 5, 6, 7, 8, 9, 10]\n",
    "\n",
    "# Use map() with lambda to find squares of numbers\n",
    "squares = list(map(lambda x:x**2, data))\n",
    "\n",
    "#Print the list of squares\n",
    "print(\"Original numbers\", data)\n",
    "print(\"Squares number \", squares)"
   ]
  },
  {
   "cell_type": "markdown",
   "id": "9e0d87f5-6d52-4c39-9856-1dd4bd604f49",
   "metadata": {},
   "source": [
    "Write a python program to convert the given list of integers into a tuple of strings. Use map and\n",
    "lambda functions\n",
    "Given String: [1, 2, 3, 4, 5, 6, 7, 8, 9, 10]\n",
    "Expected output: ('1', '2', '3', '4', '5', '6', '7', '8', '9', '10')"
   ]
  },
  {
   "cell_type": "code",
   "execution_count": 4,
   "id": "f0568f62-fd22-4548-a221-25827af78d5b",
   "metadata": {},
   "outputs": [
    {
     "name": "stdout",
     "output_type": "stream",
     "text": [
      "Original list  [1, 2, 3, 4, 5, 6, 7, 8, 9, 10]\n",
      "tuples of string  ['1', '2', '3', '4', '5', '6', '7', '8', '9', '10']\n"
     ]
    }
   ],
   "source": [
    "## program to convert the given list of integers into a tuple of strings. Use map and lambda functions\n",
    "\n",
    "# Given string\n",
    "data = [1, 2, 3, 4, 5, 6, 7, 8, 9, 10]\n",
    "#Use map with lambda to convert list of integers into tuple of strings\n",
    "tuple_of_strings = list(map(lambda x:str(x),data))\n",
    "\n",
    "## Print the list\n",
    "print(\"Original list \", data)\n",
    "print(\"tuples of string \", tuple_of_strings)"
   ]
  },
  {
   "cell_type": "code",
   "execution_count": 9,
   "id": "d289a39e-a3a9-445f-a6a4-fcc3362efcd5",
   "metadata": {},
   "outputs": [
    {
     "name": "stdout",
     "output_type": "stream",
     "text": [
      "The product of numbers from 1 to 25 is: 15511210043330985984000000\n"
     ]
    }
   ],
   "source": [
    "## Write a python program using reduce function to compute the product of a list containing numbers from 1 to 25.\n",
    "\n",
    "from functools import reduce\n",
    "# Create a list of numbers from 1 to 25\n",
    "numbers = list(range(1,26))\n",
    "\n",
    "#Use reduce() to compute the product of all numbers in the list\n",
    "product = reduce(lambda x, y: x * y, numbers)\n",
    "\n",
    "## Print the product\n",
    "print(f\"The product of numbers from 1 to 25 is: {product}\")"
   ]
  },
  {
   "cell_type": "code",
   "execution_count": 10,
   "id": "515423b8-6f8d-4b1e-8265-0ec1b93c9c3c",
   "metadata": {},
   "outputs": [
    {
     "name": "stdout",
     "output_type": "stream",
     "text": [
      "Numbers divisible by both 2 and 3 :  [6, 60, 90, 120]\n"
     ]
    }
   ],
   "source": [
    "##Write a python program to filter the numbers in a given list that are divisible by 2 and 3 using the filter function.\n",
    "# Given list\n",
    "numbers= [2, 3, 6, 9, 27, 60, 90, 120, 55, 46]\n",
    "\n",
    "#Use filter() with lambda to filter numbers divisible by 2 and 3\n",
    "filterred_numbers=list(filter(lambda x:(x % 2 ==0 and x % 3 == 0 ), numbers))\n",
    "\n",
    "#Print the filtered numbers\n",
    "print(\"Numbers divisible by both 2 and 3 : \", filterred_numbers)"
   ]
  },
  {
   "cell_type": "code",
   "execution_count": 11,
   "id": "dab9f1d4-47a0-4e0f-9b01-873f83def90c",
   "metadata": {},
   "outputs": [
    {
     "name": "stdout",
     "output_type": "stream",
     "text": [
      "Palindrome in the list :  ['php', 'aba', 'radar', 'level']\n"
     ]
    }
   ],
   "source": [
    "##Write a python program to find palindromes in the given list of strings using lambda and filter function.\n",
    "\n",
    "## Given list of strings\n",
    "strings = ['python', 'php', 'aba', 'radar', 'level']\n",
    "\n",
    "## Define a lambda funtion to check palindrome\n",
    "is_palindrome = lambda s:s==s[::-1]\n",
    "\n",
    "# Use filter() with lambda to filter\n",
    "palindromes = list(filter(is_palindrome, strings))\n",
    "\n",
    "#print the palindrome found\n",
    "print(\"Palindrome in the list : \", palindromes )"
   ]
  },
  {
   "cell_type": "code",
   "execution_count": null,
   "id": "f1c28a72-c4e2-4914-94d8-a587da0e5ccd",
   "metadata": {},
   "outputs": [],
   "source": []
  }
 ],
 "metadata": {
  "kernelspec": {
   "display_name": "Python 3 (ipykernel)",
   "language": "python",
   "name": "python3"
  },
  "language_info": {
   "codemirror_mode": {
    "name": "ipython",
    "version": 3
   },
   "file_extension": ".py",
   "mimetype": "text/x-python",
   "name": "python",
   "nbconvert_exporter": "python",
   "pygments_lexer": "ipython3",
   "version": "3.10.8"
  }
 },
 "nbformat": 4,
 "nbformat_minor": 5
}
